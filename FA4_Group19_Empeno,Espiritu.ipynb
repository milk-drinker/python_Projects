{
 "cells": [
  {
   "cell_type": "code",
   "execution_count": 53,
   "metadata": {},
   "outputs": [
    {
     "name": "stdout",
     "output_type": "stream",
     "text": [
      "Question 1:\n",
      "m = 2 and n = 4\n",
      "Value: 11\n",
      "If value inputted is m > 3 and/or n > 7\n",
      "will reach maximum recursion depth that python allows\n",
      "enter M value: 2\n",
      "enter N value: 4\n",
      "11\n"
     ]
    }
   ],
   "source": [
    "def ack(m,n):\n",
    "    if m < 0 or n < 0:\n",
    "        print(\"Only Accepts Nonnegative Numbers\")\n",
    "        return -1\n",
    "    elif m == 0:\n",
    "        return n + 1\n",
    "    elif m > 0 and n == 0:\n",
    "        return ack(m-1,1)\n",
    "    elif m > 0 and n > 0:\n",
    "        return ack(m-1,ack(m,n-1))\n",
    "\n",
    "def inputAck():\n",
    "    print(\"m = 2 and n = 4\")\n",
    "    print(\"Value: \" + str(ack(2,4)))\n",
    "    print(\"If value inputted is m > 3 and/or n > 7\")\n",
    "    print(\"will reach maximum recursion depth that python allows\")\n",
    "    while True:\n",
    "        try:\n",
    "            m = int(input(\"enter M value: \"))\n",
    "            if (m < 0):\n",
    "                print(\"Cannot be Less than 0\")\n",
    "                continue\n",
    "            else:\n",
    "                break\n",
    "        except ValueError:\n",
    "            print(\"Invalid Input\")\n",
    "    while True:\n",
    "        try:\n",
    "            n = int(input(\"enter N value: \"))\n",
    "            if (n < 0):\n",
    "                print(\"Cannot be Less than 0\")\n",
    "                continue\n",
    "            else:\n",
    "                break\n",
    "        except ValueError:\n",
    "            print(\"Invalid Input\")\n",
    "    print(ack(m,n))\n",
    "    \n",
    "print(\"Question 1:\")\n",
    "inputAck() "
   ]
  },
  {
   "cell_type": "code",
   "execution_count": 55,
   "metadata": {},
   "outputs": [
    {
     "name": "stdout",
     "output_type": "stream",
     "text": [
      "Question 2\n",
      "enter A value: 2.25\n",
      "enter B value: 1.5\n",
      "True\n"
     ]
    }
   ],
   "source": [
    "import math\n",
    "def is_power(a,b):\n",
    "    c = math.log(a,b) % 1\n",
    "    c = round(c, 2)\n",
    "    if c == 0:\n",
    "        return True\n",
    "    else :\n",
    "        return False\n",
    "\n",
    "\n",
    "def input_is_power():\n",
    "    while True:\n",
    "        try:\n",
    "            a = float(input(\"enter A value: \"))\n",
    "            if (a < 0):\n",
    "                print(\"Cannot be Less than 0\")\n",
    "                continue\n",
    "            else:\n",
    "                break\n",
    "        except ValueError:\n",
    "            print(\"Invalid Input\")\n",
    "    while True:\n",
    "        try:\n",
    "            b = float(input(\"enter B value: \"))\n",
    "            if (b < 0):\n",
    "                print(\"Cannot be Less than 0\")\n",
    "                continue\n",
    "            else:\n",
    "                break\n",
    "        except ValueError:\n",
    "            print(\"Invalid Input\")\n",
    "            \n",
    "    print(is_power(a,b))\n",
    "\n",
    "print(\"Question 2\")\n",
    "input_is_power()"
   ]
  },
  {
   "cell_type": "code",
   "execution_count": 56,
   "metadata": {},
   "outputs": [],
   "source": [
    "#Espiritu, Joseph Raphael M.\n",
    "#Empeno, Jhon Kheil Cymon T."
   ]
  },
  {
   "cell_type": "code",
   "execution_count": null,
   "metadata": {},
   "outputs": [],
   "source": []
  }
 ],
 "metadata": {
  "kernelspec": {
   "display_name": "Python 3",
   "language": "python",
   "name": "python3"
  },
  "language_info": {
   "codemirror_mode": {
    "name": "ipython",
    "version": 3
   },
   "file_extension": ".py",
   "mimetype": "text/x-python",
   "name": "python",
   "nbconvert_exporter": "python",
   "pygments_lexer": "ipython3",
   "version": "3.7.0"
  }
 },
 "nbformat": 4,
 "nbformat_minor": 2
}
